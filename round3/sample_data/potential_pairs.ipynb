{
 "cells": [
  {
   "cell_type": "code",
   "id": "initial_id",
   "metadata": {
    "ExecuteTime": {
     "end_time": "2024-04-24T03:00:26.472246Z",
     "start_time": "2024-04-24T03:00:26.466856Z"
    }
   },
   "source": [
    "import pandas as pd\n",
    "import matplotlib.pyplot as plt\n",
    "# from statsmodels.tsa.stattools import coint, adfuller\n",
    "# import statsmodels.api as sm\n"
   ],
   "outputs": [],
   "execution_count": 3
  },
  {
   "cell_type": "code",
   "id": "7f8b0e8e4704d9e3",
   "metadata": {
    "ExecuteTime": {
     "end_time": "2024-04-24T03:00:26.614550Z",
     "start_time": "2024-04-24T03:00:26.477196Z"
    }
   },
   "source": [
    "day_0 = pd.read_csv(\"prices_round_3_day_0.csv\", sep=\";\")\n",
    "day_1 = pd.read_csv(\"prices_round_3_day_1.csv\", sep=\";\")\n",
    "day_2 = pd.read_csv(\"prices_round_3_day_2.csv\", sep=\";\")\n",
    "\n",
    "all_days = pd.concat([day_0, day_1, day_2], ignore_index=True)\n",
    "print(len(all_days.index))\n",
    "all_days.head()"
   ],
   "outputs": [
    {
     "name": "stdout",
     "output_type": "stream",
     "text": [
      "120000\n"
     ]
    },
    {
     "data": {
      "text/plain": [
       "   day  timestamp       product  bid_price_1  bid_volume_1  bid_price_2  \\\n",
       "0    0          0     CHOCOLATE         7999           111          NaN   \n",
       "1    0          0  STRAWBERRIES         3999           210          NaN   \n",
       "2    0          0         ROSES        14999            72          NaN   \n",
       "3    0          0   GIFT_BASKET        71348            19      71347.0   \n",
       "4    0        100   GIFT_BASKET        71344             1      71343.0   \n",
       "\n",
       "   bid_volume_2  bid_price_3  bid_volume_3  ask_price_1  ask_volume_1  \\\n",
       "0           NaN          NaN           NaN         8001           111   \n",
       "1           NaN          NaN           NaN         4001           210   \n",
       "2           NaN          NaN           NaN        15001            72   \n",
       "3          24.0          NaN           NaN        71362            19   \n",
       "4          12.0      71342.0          20.0        71355             1   \n",
       "\n",
       "   ask_price_2  ask_volume_2  ask_price_3  ask_volume_3  mid_price  \\\n",
       "0          NaN           NaN          NaN           NaN     8000.0   \n",
       "1          NaN           NaN          NaN           NaN     4000.0   \n",
       "2          NaN           NaN          NaN           NaN    15000.0   \n",
       "3      71363.0          24.0          NaN           NaN    71355.0   \n",
       "4      71356.0          12.0      71357.0          20.0    71349.5   \n",
       "\n",
       "   profit_and_loss  \n",
       "0              0.0  \n",
       "1              0.0  \n",
       "2              0.0  \n",
       "3              0.0  \n",
       "4              0.0  "
      ],
      "text/html": [
       "<div>\n",
       "<style scoped>\n",
       "    .dataframe tbody tr th:only-of-type {\n",
       "        vertical-align: middle;\n",
       "    }\n",
       "\n",
       "    .dataframe tbody tr th {\n",
       "        vertical-align: top;\n",
       "    }\n",
       "\n",
       "    .dataframe thead th {\n",
       "        text-align: right;\n",
       "    }\n",
       "</style>\n",
       "<table border=\"1\" class=\"dataframe\">\n",
       "  <thead>\n",
       "    <tr style=\"text-align: right;\">\n",
       "      <th></th>\n",
       "      <th>day</th>\n",
       "      <th>timestamp</th>\n",
       "      <th>product</th>\n",
       "      <th>bid_price_1</th>\n",
       "      <th>bid_volume_1</th>\n",
       "      <th>bid_price_2</th>\n",
       "      <th>bid_volume_2</th>\n",
       "      <th>bid_price_3</th>\n",
       "      <th>bid_volume_3</th>\n",
       "      <th>ask_price_1</th>\n",
       "      <th>ask_volume_1</th>\n",
       "      <th>ask_price_2</th>\n",
       "      <th>ask_volume_2</th>\n",
       "      <th>ask_price_3</th>\n",
       "      <th>ask_volume_3</th>\n",
       "      <th>mid_price</th>\n",
       "      <th>profit_and_loss</th>\n",
       "    </tr>\n",
       "  </thead>\n",
       "  <tbody>\n",
       "    <tr>\n",
       "      <th>0</th>\n",
       "      <td>0</td>\n",
       "      <td>0</td>\n",
       "      <td>CHOCOLATE</td>\n",
       "      <td>7999</td>\n",
       "      <td>111</td>\n",
       "      <td>NaN</td>\n",
       "      <td>NaN</td>\n",
       "      <td>NaN</td>\n",
       "      <td>NaN</td>\n",
       "      <td>8001</td>\n",
       "      <td>111</td>\n",
       "      <td>NaN</td>\n",
       "      <td>NaN</td>\n",
       "      <td>NaN</td>\n",
       "      <td>NaN</td>\n",
       "      <td>8000.0</td>\n",
       "      <td>0.0</td>\n",
       "    </tr>\n",
       "    <tr>\n",
       "      <th>1</th>\n",
       "      <td>0</td>\n",
       "      <td>0</td>\n",
       "      <td>STRAWBERRIES</td>\n",
       "      <td>3999</td>\n",
       "      <td>210</td>\n",
       "      <td>NaN</td>\n",
       "      <td>NaN</td>\n",
       "      <td>NaN</td>\n",
       "      <td>NaN</td>\n",
       "      <td>4001</td>\n",
       "      <td>210</td>\n",
       "      <td>NaN</td>\n",
       "      <td>NaN</td>\n",
       "      <td>NaN</td>\n",
       "      <td>NaN</td>\n",
       "      <td>4000.0</td>\n",
       "      <td>0.0</td>\n",
       "    </tr>\n",
       "    <tr>\n",
       "      <th>2</th>\n",
       "      <td>0</td>\n",
       "      <td>0</td>\n",
       "      <td>ROSES</td>\n",
       "      <td>14999</td>\n",
       "      <td>72</td>\n",
       "      <td>NaN</td>\n",
       "      <td>NaN</td>\n",
       "      <td>NaN</td>\n",
       "      <td>NaN</td>\n",
       "      <td>15001</td>\n",
       "      <td>72</td>\n",
       "      <td>NaN</td>\n",
       "      <td>NaN</td>\n",
       "      <td>NaN</td>\n",
       "      <td>NaN</td>\n",
       "      <td>15000.0</td>\n",
       "      <td>0.0</td>\n",
       "    </tr>\n",
       "    <tr>\n",
       "      <th>3</th>\n",
       "      <td>0</td>\n",
       "      <td>0</td>\n",
       "      <td>GIFT_BASKET</td>\n",
       "      <td>71348</td>\n",
       "      <td>19</td>\n",
       "      <td>71347.0</td>\n",
       "      <td>24.0</td>\n",
       "      <td>NaN</td>\n",
       "      <td>NaN</td>\n",
       "      <td>71362</td>\n",
       "      <td>19</td>\n",
       "      <td>71363.0</td>\n",
       "      <td>24.0</td>\n",
       "      <td>NaN</td>\n",
       "      <td>NaN</td>\n",
       "      <td>71355.0</td>\n",
       "      <td>0.0</td>\n",
       "    </tr>\n",
       "    <tr>\n",
       "      <th>4</th>\n",
       "      <td>0</td>\n",
       "      <td>100</td>\n",
       "      <td>GIFT_BASKET</td>\n",
       "      <td>71344</td>\n",
       "      <td>1</td>\n",
       "      <td>71343.0</td>\n",
       "      <td>12.0</td>\n",
       "      <td>71342.0</td>\n",
       "      <td>20.0</td>\n",
       "      <td>71355</td>\n",
       "      <td>1</td>\n",
       "      <td>71356.0</td>\n",
       "      <td>12.0</td>\n",
       "      <td>71357.0</td>\n",
       "      <td>20.0</td>\n",
       "      <td>71349.5</td>\n",
       "      <td>0.0</td>\n",
       "    </tr>\n",
       "  </tbody>\n",
       "</table>\n",
       "</div>"
      ]
     },
     "execution_count": 4,
     "metadata": {},
     "output_type": "execute_result"
    }
   ],
   "execution_count": 4
  },
  {
   "cell_type": "code",
   "id": "f1dc127442ba7b5f",
   "metadata": {
    "ExecuteTime": {
     "end_time": "2024-04-24T03:00:26.660987Z",
     "start_time": "2024-04-24T03:00:26.615623Z"
    }
   },
   "source": [
    "choc_df = all_days[all_days[\"product\"]==\"CHOCOLATE\"]\n",
    "choc_df = choc_df.reset_index()\n",
    "strawberry_df = all_days[all_days[\"product\"]==\"STRAWBERRIES\"]\n",
    "strawberry_df = strawberry_df.reset_index()\n",
    "roses_df = all_days[all_days[\"product\"]==\"ROSES\"]\n",
    "roses_df = roses_df.reset_index()\n",
    "gift_df = all_days[all_days[\"product\"]==\"GIFT_BASKET\"]\n",
    "gift_df = gift_df.reset_index()\n",
    "# print(len(choc_df.index))\n",
    "# choc_df.head()\n",
    "# strawberry_df.head()\n",
    "# roses_df.head()\n",
    "# gift_df.head()"
   ],
   "outputs": [],
   "execution_count": 5
  },
  {
   "cell_type": "code",
   "id": "6448ad276821202b",
   "metadata": {
    "ExecuteTime": {
     "end_time": "2024-04-24T03:00:26.670796Z",
     "start_time": "2024-04-24T03:00:26.661978Z"
    }
   },
   "source": [
    "mid_prices = pd.DataFrame()\n",
    "mid_prices[\"Chocolate\"] = choc_df[\"mid_price\"]\n",
    "mid_prices[\"Strawberries\"] = strawberry_df[\"mid_price\"]\n",
    "mid_prices[\"Roses\"] = roses_df[\"mid_price\"]\n",
    "mid_prices[\"Gifts\"] = gift_df[\"mid_price\"]\n",
    "mid_prices.corr()\n",
    "# find that: \n",
    "# CHOCOLATE & GIFTS(1st) - 0.947, ROSES(2nd) - 0.826 have a STRONG correlation\n",
    "# ROSES & GIFTS have a STRONG correlation (0.850)\n",
    "# STRAWBERRIES & GIFTS have a MODERATE correlation (0.498)\n",
    "# \n",
    "# Ideas:\n",
    "# Strawberries appear to be relatively independent especially in comparison to chocolate and roses\n",
    "# apart from gifts, all items are relatively independent of each other except for: chocolate & roses "
   ],
   "outputs": [
    {
     "data": {
      "text/plain": [
       "              Chocolate  Strawberries     Roses     Gifts\n",
       "Chocolate      1.000000      0.273545  0.826358  0.947339\n",
       "Strawberries   0.273545      1.000000  0.148667  0.498003\n",
       "Roses          0.826358      0.148667  1.000000  0.850830\n",
       "Gifts          0.947339      0.498003  0.850830  1.000000"
      ],
      "text/html": [
       "<div>\n",
       "<style scoped>\n",
       "    .dataframe tbody tr th:only-of-type {\n",
       "        vertical-align: middle;\n",
       "    }\n",
       "\n",
       "    .dataframe tbody tr th {\n",
       "        vertical-align: top;\n",
       "    }\n",
       "\n",
       "    .dataframe thead th {\n",
       "        text-align: right;\n",
       "    }\n",
       "</style>\n",
       "<table border=\"1\" class=\"dataframe\">\n",
       "  <thead>\n",
       "    <tr style=\"text-align: right;\">\n",
       "      <th></th>\n",
       "      <th>Chocolate</th>\n",
       "      <th>Strawberries</th>\n",
       "      <th>Roses</th>\n",
       "      <th>Gifts</th>\n",
       "    </tr>\n",
       "  </thead>\n",
       "  <tbody>\n",
       "    <tr>\n",
       "      <th>Chocolate</th>\n",
       "      <td>1.000000</td>\n",
       "      <td>0.273545</td>\n",
       "      <td>0.826358</td>\n",
       "      <td>0.947339</td>\n",
       "    </tr>\n",
       "    <tr>\n",
       "      <th>Strawberries</th>\n",
       "      <td>0.273545</td>\n",
       "      <td>1.000000</td>\n",
       "      <td>0.148667</td>\n",
       "      <td>0.498003</td>\n",
       "    </tr>\n",
       "    <tr>\n",
       "      <th>Roses</th>\n",
       "      <td>0.826358</td>\n",
       "      <td>0.148667</td>\n",
       "      <td>1.000000</td>\n",
       "      <td>0.850830</td>\n",
       "    </tr>\n",
       "    <tr>\n",
       "      <th>Gifts</th>\n",
       "      <td>0.947339</td>\n",
       "      <td>0.498003</td>\n",
       "      <td>0.850830</td>\n",
       "      <td>1.000000</td>\n",
       "    </tr>\n",
       "  </tbody>\n",
       "</table>\n",
       "</div>"
      ]
     },
     "execution_count": 6,
     "metadata": {},
     "output_type": "execute_result"
    }
   ],
   "execution_count": 6
  },
  {
   "cell_type": "code",
   "id": "329f1e2d",
   "metadata": {
    "ExecuteTime": {
     "end_time": "2024-04-24T03:00:26.684215Z",
     "start_time": "2024-04-24T03:00:26.672111Z"
    }
   },
   "source": [
    "# take the returns and check for stationarity\n",
    "mid_prices['Chocolate_Returns'] = mid_prices['Chocolate'].pct_change().fillna(0)\n",
    "mid_prices['Strawberries_Returns'] = mid_prices['Strawberries'].pct_change().fillna(0)\n",
    "mid_prices['Roses_Returns'] = mid_prices['Roses'].pct_change().fillna(0)\n",
    "mid_prices['Gifts_Returns'] = mid_prices['Gifts'].pct_change().fillna(0)\n",
    "print(mid_prices.head())"
   ],
   "outputs": [
    {
     "name": "stdout",
     "output_type": "stream",
     "text": [
      "   Chocolate  Strawberries    Roses    Gifts  Chocolate_Returns  \\\n",
      "0     8000.0        4000.0  15000.0  71355.0           0.000000   \n",
      "1     8001.5        3999.5  15000.0  71349.5           0.000188   \n",
      "2     8001.0        3999.5  15000.5  71347.0          -0.000062   \n",
      "3     8002.5        3999.5  15000.0  71350.5           0.000187   \n",
      "4     8002.0        3999.5  14997.5  71341.5          -0.000062   \n",
      "\n",
      "   Strawberries_Returns  Roses_Returns  Gifts_Returns  \n",
      "0              0.000000       0.000000       0.000000  \n",
      "1             -0.000125       0.000000      -0.000077  \n",
      "2              0.000000       0.000033      -0.000035  \n",
      "3              0.000000      -0.000033       0.000049  \n",
      "4              0.000000      -0.000167      -0.000126  \n"
     ]
    }
   ],
   "execution_count": 7
  },
  {
   "cell_type": "code",
   "id": "81ebd37f",
   "metadata": {
    "ExecuteTime": {
     "end_time": "2024-04-24T03:00:26.710452Z",
     "start_time": "2024-04-24T03:00:26.685059Z"
    }
   },
   "source": [
    "print(adfuller(mid_prices['Chocolate_Returns']))\n",
    "print(adfuller(mid_prices['Strawberries_Returns']))\n",
    "print(adfuller(mid_prices['Roses_Returns']))\n",
    "print(adfuller(mid_prices['Gifts_Returns']))\n",
    "\n",
    "#  all products are O(1) stationary"
   ],
   "outputs": [
    {
     "ename": "NameError",
     "evalue": "name 'adfuller' is not defined",
     "output_type": "error",
     "traceback": [
      "\u001B[0;31m---------------------------------------------------------------------------\u001B[0m",
      "\u001B[0;31mNameError\u001B[0m                                 Traceback (most recent call last)",
      "Cell \u001B[0;32mIn[8], line 1\u001B[0m\n\u001B[0;32m----> 1\u001B[0m \u001B[38;5;28mprint\u001B[39m(\u001B[43madfuller\u001B[49m(mid_prices[\u001B[38;5;124m'\u001B[39m\u001B[38;5;124mChocolate_Returns\u001B[39m\u001B[38;5;124m'\u001B[39m]))\n\u001B[1;32m      2\u001B[0m \u001B[38;5;28mprint\u001B[39m(adfuller(mid_prices[\u001B[38;5;124m'\u001B[39m\u001B[38;5;124mStrawberries_Returns\u001B[39m\u001B[38;5;124m'\u001B[39m]))\n\u001B[1;32m      3\u001B[0m \u001B[38;5;28mprint\u001B[39m(adfuller(mid_prices[\u001B[38;5;124m'\u001B[39m\u001B[38;5;124mRoses_Returns\u001B[39m\u001B[38;5;124m'\u001B[39m]))\n",
      "\u001B[0;31mNameError\u001B[0m: name 'adfuller' is not defined"
     ]
    }
   ],
   "execution_count": 8
  },
  {
   "cell_type": "code",
   "id": "c6d7c4f1",
   "metadata": {},
   "source": [
    "print(coint(mid_prices['Chocolate'], mid_prices['Roses']))\n",
    "print(coint(mid_prices['Chocolate'], mid_prices['Strawberries']))\n",
    "print(coint(mid_prices['Chocolate'], mid_prices['Gifts']))\n",
    "print(coint(mid_prices['Roses'], mid_prices['Strawberries']))\n",
    "print(coint(mid_prices['Roses'], mid_prices['Gifts']))\n",
    "print(coint(mid_prices['Strawberries'], mid_prices['Gifts']))"
   ],
   "outputs": [],
   "execution_count": null
  },
  {
   "cell_type": "markdown",
   "id": "35d59f84",
   "metadata": {},
   "source": [
    "### Cointegrated\n",
    "5%:\n",
    "- Roses & Gifts\n",
    "\n",
    "10%:\n",
    "- Chocolate & Gifts\n",
    "- Roses & Strawberries"
   ]
  },
  {
   "cell_type": "code",
   "id": "534c93cba512103b",
   "metadata": {},
   "source": [
    "for col in [\"Chocolate\", \"Roses\", \"Strawberries\", \"Gifts\"]:\n",
    "    mid_prices[f\"{col}_Rolling_Z_Score\"] = (mid_prices[col] - mid_prices[col].rolling(30).mean())/mid_prices[col].rolling(30).std()\n",
    "mid_prices.head()\n",
    "print(mid_prices[30:60])"
   ],
   "outputs": [],
   "execution_count": null
  },
  {
   "cell_type": "code",
   "id": "f45e0eeb",
   "metadata": {
    "scrolled": true
   },
   "source": [
    "plt.plot(mid_prices['Chocolate_Rolling_Z_Score'][:100], color=\"blue\")\n",
    "plt.title(\"CHOCOLATE_Z_SCORE\")\n",
    "plt.show()\n",
    "plt.plot(mid_prices['Strawberries_Rolling_Z_Score'][:100], color=\"orange\")\n",
    "plt.title(\"STRAWBERRIE_Z_SCORE\")\n",
    "plt.show()\n",
    "plt.plot(mid_prices['Roses_Rolling_Z_Score'][:100], color=\"yellow\")\n",
    "plt.title(\"ROSES_Z_SCORE\")\n",
    "plt.show()"
   ],
   "outputs": [],
   "execution_count": null
  },
  {
   "cell_type": "code",
   "id": "2b991b52-1977-4678-942c-9a3392300a65",
   "metadata": {},
   "source": [
    "# pairs trading between roses and gifts\n",
    "def find_coint(y0, y1, alpha=0.05):\n",
    "    \"\"\"\n",
    "    y0 and y1 are the array-like 1d elements to compare for cointegration. Assuming y0 and y1 are I(1) stationary.\n",
    "\n",
    "    Parameters:\n",
    "    - y0: Array-like, 1d\n",
    "    - y1: Array-like, 1d\n",
    "    - alpha: the significance level is set at 0.5\n",
    "    \"\"\"\n",
    "    # Fit OLS model\n",
    "    model = sm.OLS(y0, y1)\n",
    "    results = model.fit()\n",
    "    \n",
    "    # Get the estimated coefficient (beta) and standard error\n",
    "    beta = results.params.iloc[0]\n",
    "    std_err = results.bse.iloc[0]\n",
    "\n",
    "    # Perform cointegration test\n",
    "    _, p_value, _ = coint(y0, y1)\n",
    "\n",
    "    print(p_value)\n",
    "    \n",
    "    # Check if there's cointegration\n",
    "    cointegrated = p_value < alpha\n",
    "    \n",
    "    # Calculate the range\n",
    "    lower_bound = beta - std_err\n",
    "    upper_bound = beta + std_err\n",
    "    \n",
    "    return beta"
   ],
   "outputs": [],
   "execution_count": null
  },
  {
   "cell_type": "code",
   "id": "21fa50ce-4180-4bd0-b6e6-4d1131e39380",
   "metadata": {},
   "source": [
    "roses_gifts_spread = pd.DataFrame({\n",
    "    \"Roses\": mid_prices['Roses'],\n",
    "    \"Gifts\": mid_prices['Gifts']\n",
    "}, index = mid_prices.index)\n"
   ],
   "outputs": [],
   "execution_count": null
  },
  {
   "cell_type": "code",
   "id": "39d24fb2f1bbbdf5",
   "metadata": {},
   "source": [
    "# Get chocolate and gift spread\n",
    "plt.plot(mid_prices[\"Chocolate\"] - mid_prices[\"Gifts\"], label=\"Chocolate/Gifts Spread\")\n",
    "plt.ylabel(\"Difference in Price\")\n",
    "plt.legend(loc=\"best\")\n",
    "plt.show()"
   ],
   "outputs": [],
   "execution_count": null
  },
  {
   "cell_type": "code",
   "id": "a1a8893356e5ae8e",
   "metadata": {},
   "source": [
    "# CHOCOLATE & STRAWBERRIES\n",
    "fig, ax1 = plt.subplots()\n",
    "ax2 = ax1.twinx() \n",
    "\n",
    "choc_line = ax1.plot(choc_df[\"mid_price\"], label=\"Chocolate Mid Price\", color=\"BROWN\")\n",
    "strawberry_line = ax2.plot(strawberry_df[\"mid_price\"], label=\"Strawberry Mid Price\", color=\"PURPLE\")\n",
    "\n",
    "ax1.set_xlabel(\"Timestamp\")\n",
    "ax1.set_ylabel(\"Chocolate Mid Price\")\n",
    "ax2.set_ylabel(\"Strawberry Mid Price\")\n",
    "\n",
    "lns = choc_line + strawberry_line\n",
    "labs = [l.get_label() for l in lns]\n",
    "plt.legend(lns, labs, loc=\"best\")\n",
    "plt.show()"
   ],
   "outputs": [],
   "execution_count": null
  },
  {
   "cell_type": "code",
   "id": "69fdac5fb17333c5",
   "metadata": {},
   "source": [
    "# CHOCOLATE & ROSES\n",
    "fig, ax1 = plt.subplots()\n",
    "ax2 = ax1.twinx() \n",
    "\n",
    "choc_line = ax1.plot(choc_df[\"mid_price\"], label=\"Chocolate Mid Price\", color=\"BROWN\")\n",
    "roses_line = ax2.plot(roses_df[\"mid_price\"], label=\"Roses Mid Price\", color=\"RED\")\n",
    "\n",
    "ax1.set_xlabel(\"Timestamp\")\n",
    "ax1.set_ylabel(\"Chocolate Mid Price\")\n",
    "ax2.set_ylabel(\"Roses Mid Price\")\n",
    "\n",
    "lns = choc_line + roses_line\n",
    "labs = [l.get_label() for l in lns]\n",
    "plt.legend(lns, labs, loc=\"best\")\n",
    "plt.show()"
   ],
   "outputs": [],
   "execution_count": null
  },
  {
   "cell_type": "code",
   "id": "412a67e87a650155",
   "metadata": {},
   "source": [
    "# CHOCOLATE & GIFTS\n",
    "fig, ax1 = plt.subplots()\n",
    "ax2 = ax1.twinx() \n",
    "\n",
    "choc_line = ax1.plot(choc_df[\"mid_price\"], label=\"Chocolate Mid Price\", color=\"BROWN\")\n",
    "gift_line = ax2.plot(gift_df[\"mid_price\"], label=\"Gift Mid Price\", color=\"BLUE\")\n",
    "\n",
    "ax1.set_xlabel(\"Timestamp\")\n",
    "ax1.set_ylabel(\"Chocolate Mid Price\")\n",
    "ax2.set_ylabel(\"Gift Mid Price\")\n",
    "\n",
    "lns = choc_line + gift_line\n",
    "labs = [l.get_label() for l in lns]\n",
    "plt.legend(lns, labs, loc=\"best\")\n",
    "plt.show()"
   ],
   "outputs": [],
   "execution_count": null
  },
  {
   "cell_type": "code",
   "id": "6ad75d456b647e6a",
   "metadata": {},
   "source": [
    "# STRAWBERRIES & ROSES\n",
    "fig, ax1 = plt.subplots()\n",
    "ax2 = ax1.twinx() \n",
    "\n",
    "strawberry_line = ax1.plot(strawberry_df[\"mid_price\"], label=\"Strawberry Mid Price\", color=\"PURPLE\")\n",
    "roses_line = ax2.plot(roses_df[\"mid_price\"], label=\"Roses Mid Price\", color=\"RED\")\n",
    "\n",
    "ax1.set_xlabel(\"Timestamp\")\n",
    "ax1.set_ylabel(\"Strawberry Mid Price\")\n",
    "ax2.set_ylabel(\"Roses Mid Price\")\n",
    "\n",
    "lns = strawberry_line + roses_line\n",
    "labs = [l.get_label() for l in lns]\n",
    "plt.legend(lns, labs, loc=\"best\")\n",
    "plt.show()"
   ],
   "outputs": [],
   "execution_count": null
  },
  {
   "cell_type": "code",
   "id": "af2c1429c72f3f22",
   "metadata": {},
   "source": [
    "# STRAWBERRIES & GIFTS\n",
    "fig, ax1 = plt.subplots()\n",
    "ax2 = ax1.twinx() \n",
    "\n",
    "strawberry_line = ax1.plot(strawberry_df[\"mid_price\"], label=\"Strawberry Mid Price\", color=\"PURPLE\")\n",
    "gifts_line = ax2.plot(gift_df[\"mid_price\"], label=\"Gifts Mid Price\", color=\"BLUE\")\n",
    "\n",
    "ax1.set_xlabel(\"Timestamp\")\n",
    "ax1.set_ylabel(\"Strawberry Mid Price\")\n",
    "ax2.set_ylabel(\"Gifts Mid Price\")\n",
    "\n",
    "lns = strawberry_line + gifts_line\n",
    "labs = [l.get_label() for l in lns]\n",
    "plt.legend(lns, labs, loc=\"best\")\n",
    "plt.show()"
   ],
   "outputs": [],
   "execution_count": null
  },
  {
   "cell_type": "code",
   "id": "e959bbce5c379861",
   "metadata": {},
   "source": [
    "# STRAWBERRIES & GIFTS\n",
    "fig, ax1 = plt.subplots()\n",
    "ax2 = ax1.twinx() \n",
    "\n",
    "roses_line = ax1.plot(roses_df[\"mid_price\"], label=\"Roses Mid Price\", color=\"RED\")\n",
    "gifts_line = ax2.plot(gift_df[\"mid_price\"], label=\"Gifts Mid Price\", color=\"BLUE\")\n",
    "\n",
    "ax1.set_xlabel(\"Timestamp\")\n",
    "ax1.set_ylabel(\"Roses Mid Price\")\n",
    "ax2.set_ylabel(\"Gifts Mid Price\")\n",
    "\n",
    "lns = roses_line + gifts_line\n",
    "labs = [l.get_label() for l in lns]\n",
    "plt.legend(lns, labs, loc=\"best\")\n",
    "plt.show()"
   ],
   "outputs": [],
   "execution_count": null
  },
  {
   "cell_type": "code",
   "id": "f045e5c5733143ae",
   "metadata": {},
   "source": [],
   "outputs": [],
   "execution_count": null
  }
 ],
 "metadata": {
  "kernelspec": {
   "display_name": "Python 3 (ipykernel)",
   "language": "python",
   "name": "python3"
  },
  "language_info": {
   "codemirror_mode": {
    "name": "ipython",
    "version": 3
   },
   "file_extension": ".py",
   "mimetype": "text/x-python",
   "name": "python",
   "nbconvert_exporter": "python",
   "pygments_lexer": "ipython3",
   "version": "3.11.4"
  }
 },
 "nbformat": 4,
 "nbformat_minor": 5
}
