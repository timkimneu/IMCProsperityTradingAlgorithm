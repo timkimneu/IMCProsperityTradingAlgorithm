{
 "cells": [
  {
   "cell_type": "code",
   "execution_count": 1,
   "metadata": {},
   "outputs": [],
   "source": [
    "import pandas as pd \n",
    "import numpy as np\n",
    "import matplotlib.pyplot as plt"
   ]
  },
  {
   "cell_type": "code",
   "execution_count": 2,
   "metadata": {},
   "outputs": [],
   "source": [
    "day_0 = pd.read_csv(\"prices_round_2_day_-1.csv\", sep=\";\") # day -1\n",
    "day_1 = pd.read_csv(\"prices_round_2_day_0.csv\", sep=\";\")\n",
    "day_2 = pd.read_csv(\"prices_round_2_day_1.csv\", sep=\";\")"
   ]
  },
  {
   "cell_type": "code",
   "execution_count": 3,
   "metadata": {},
   "outputs": [
    {
     "name": "stdout",
     "output_type": "stream",
     "text": [
      "<bound method DataFrame.info of        timestamp  ORCHIDS  TRANSPORT_FEES  EXPORT_TARIFF  IMPORT_TARIFF  \\\n",
      "0              0  1200.00             1.5           10.5           -2.0   \n",
      "1            100  1201.75             1.5            9.5           -2.0   \n",
      "2            200  1201.75             1.5            9.5           -2.0   \n",
      "3            300  1201.75             1.5            9.5           -2.0   \n",
      "4            400  1201.75             1.5            9.5           -2.0   \n",
      "...          ...      ...             ...            ...            ...   \n",
      "29998     999600  1036.25             0.9            9.5           -5.0   \n",
      "29999     999700  1036.25             0.9            9.5           -5.0   \n",
      "30000     999800  1036.25             0.9            9.5           -5.0   \n",
      "30001     999900  1034.25             0.9            9.5           -5.0   \n",
      "30002    1000000  1035.25             0.9            9.5           -5.0   \n",
      "\n",
      "        SUNLIGHT  HUMIDITY  DAY  \n",
      "0      2500.0000  79.00000   -1  \n",
      "1      2499.4197  79.00410   -1  \n",
      "2      2498.8457  79.00821   -1  \n",
      "3      2498.2780  79.01234   -1  \n",
      "4      2497.7166  79.01649   -1  \n",
      "...          ...       ...  ...  \n",
      "29998  2299.9436  69.93549    1  \n",
      "29999  2299.9556  69.95153    1  \n",
      "30000  2299.9690  69.96762    1  \n",
      "30001  2299.9840  69.98378    1  \n",
      "30002  2300.0000  70.00000    1  \n",
      "\n",
      "[30003 rows x 8 columns]>\n",
      "   timestamp  ORCHIDS  TRANSPORT_FEES  EXPORT_TARIFF  IMPORT_TARIFF  \\\n",
      "0          0  1200.00             1.5           10.5           -2.0   \n",
      "1        100  1201.75             1.5            9.5           -2.0   \n",
      "2        200  1201.75             1.5            9.5           -2.0   \n",
      "3        300  1201.75             1.5            9.5           -2.0   \n",
      "4        400  1201.75             1.5            9.5           -2.0   \n",
      "\n",
      "    SUNLIGHT  HUMIDITY  DAY  \n",
      "0  2500.0000  79.00000   -1  \n",
      "1  2499.4197  79.00410   -1  \n",
      "2  2498.8457  79.00821   -1  \n",
      "3  2498.2780  79.01234   -1  \n",
      "4  2497.7166  79.01649   -1  \n"
     ]
    }
   ],
   "source": [
    "\n",
    "all_days = pd.concat([day_0,day_1,day_2], ignore_index=True)\n",
    "print(all_days.info)\n",
    "print(all_days.head())"
   ]
  },
  {
   "cell_type": "code",
   "execution_count": null,
   "metadata": {},
   "outputs": [],
   "source": []
  }
 ],
 "metadata": {
  "kernelspec": {
   "display_name": "Python 3",
   "language": "python",
   "name": "python3"
  },
  "language_info": {
   "codemirror_mode": {
    "name": "ipython",
    "version": 3
   },
   "file_extension": ".py",
   "mimetype": "text/x-python",
   "name": "python",
   "nbconvert_exporter": "python",
   "pygments_lexer": "ipython3",
   "version": "3.11.4"
  }
 },
 "nbformat": 4,
 "nbformat_minor": 2
}
